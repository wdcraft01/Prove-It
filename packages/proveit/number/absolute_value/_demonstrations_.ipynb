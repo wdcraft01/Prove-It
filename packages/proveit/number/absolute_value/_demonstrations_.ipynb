{
 "cells": [
  {
   "cell_type": "markdown",
   "metadata": {},
   "source": [
    "Demonstrations for context <a class=\"ProveItLink\" href=\"_context_.ipynb\">proveit.number.absolute_value</a>\n",
    "========"
   ]
  },
  {
   "cell_type": "code",
   "execution_count": null,
   "metadata": {},
   "outputs": [],
   "source": [
    "import proveit\n",
    "from proveit._common_ import a, b\n",
    "from proveit.logic import Equals, InSet, NotEquals\n",
    "from proveit.number import zero, one, two, three\n",
    "from proveit.number import (Abs, Add, Complexes, frac, Greater, GreaterEq, Integers,\n",
    "                            Less, LessEq, Mult, NaturalsPos, Neg, Reals, RealsNeg,\n",
    "                            RealsNonNeg, RealsPos)\n",
    "from proveit.number.absolute_value._axioms_ import abs_val_def_sqrt\n",
    "%begin demonstrations"
   ]
  },
  {
   "cell_type": "markdown",
   "metadata": {},
   "source": [
    "# Absolute Value (and norm) $|a|$"
   ]
  },
  {
   "cell_type": "markdown",
   "metadata": {},
   "source": [
    "<div style=\"line-height:1.4; font-size:14pt\">\n",
    "\n",
    "<a href='#introduction'>Introduction</a><br>\n",
    "<a href='#simple_expressions'>Simple Expressions Involving Absolute Value $|a|$</a><br>\n",
    "<a href='#common_attributes'>Common Attributes of an Absolute Value Expression</a><br>\n",
    "<a href='#axioms'>Axioms</a><br>\n",
    "<a href='#theorems'>Theorems</a><br>\n",
    "<a href='#further_demonstrations'>Further Demonstrations</a><br>\n",
    "    <ol>\n",
    "        <li><a href='#demo01'>TBA</a></li>\n",
    "        <li><a href='#demo02'>TBA</a></li>\n",
    "        <li><a href='#demo03'>TBA</a></li>\n",
    "    </ol>\n",
    "<a href='#misc_testing'>Misc Testing (temporary)</a><br>\n",
    "</div>\n"
   ]
  },
  {
   "cell_type": "markdown",
   "metadata": {},
   "source": [
    "## Introduction [under construction] <a id='introduction'></a>"
   ]
  },
  {
   "cell_type": "markdown",
   "metadata": {},
   "source": [
    "<font size=4>Some introductory comments here about the importance of absolute value $|a|$ and its generalization to the norm of a complex number.</font>"
   ]
  },
  {
   "cell_type": "markdown",
   "metadata": {},
   "source": [
    "## Simple Expressions Involving Absolute Value $|a|$ <a id='simple_expressions'></a>"
   ]
  },
  {
   "cell_type": "markdown",
   "metadata": {},
   "source": [
    "<font size=4>It is straightforward to construct absolute value expressions. Here are some basic examples of such expressions:</font>"
   ]
  },
  {
   "cell_type": "code",
   "execution_count": null,
   "metadata": {},
   "outputs": [],
   "source": [
    "# basic absolute value expression\n",
    "Abs(a)"
   ]
  },
  {
   "cell_type": "code",
   "execution_count": null,
   "metadata": {},
   "outputs": [],
   "source": [
    "# a version of the triangle inequality\n",
    "LessEq(Abs(Add(a, b)), Add(Abs(a),Abs(b)))"
   ]
  },
  {
   "cell_type": "markdown",
   "metadata": {},
   "source": [
    "## Common Attributes of an Absolute Value Expression <a id='common_attributes'></a>"
   ]
  },
  {
   "cell_type": "markdown",
   "metadata": {},
   "source": [
    "<font size=4>Let's define a simple absolute value expression, $|a+b|$, and look at some of its attributes.</font>"
   ]
  },
  {
   "cell_type": "code",
   "execution_count": null,
   "metadata": {},
   "outputs": [],
   "source": [
    "abs_value_a_plus_b = Abs(Add(a, b))"
   ]
  },
  {
   "cell_type": "code",
   "execution_count": null,
   "metadata": {},
   "outputs": [],
   "source": [
    "abs_value_a_plus_b.exprInfo()"
   ]
  },
  {
   "cell_type": "markdown",
   "metadata": {},
   "source": [
    "<font size=4>The string version of the absolute value operator is simply the `Abs` string:</font>"
   ]
  },
  {
   "cell_type": "code",
   "execution_count": null,
   "metadata": {},
   "outputs": [],
   "source": [
    "abs_value_a_plus_b.operator"
   ]
  },
  {
   "cell_type": "markdown",
   "metadata": {},
   "source": [
    "<font size=4>We can get the operand (the expression inside the absolute value). We can also get a list of the variables and a separate list of the *free* variables in the expression (of course, in this expression, all the variables are also free variables):</font>"
   ]
  },
  {
   "cell_type": "code",
   "execution_count": null,
   "metadata": {},
   "outputs": [],
   "source": [
    "# the \"bare\" operand\n",
    "abs_value_a_plus_b.operand"
   ]
  },
  {
   "cell_type": "code",
   "execution_count": null,
   "metadata": {},
   "outputs": [],
   "source": [
    "# the operand in a tuple\n",
    "abs_value_a_plus_b.operands"
   ]
  },
  {
   "cell_type": "code",
   "execution_count": null,
   "metadata": {},
   "outputs": [],
   "source": [
    "abs_value_a_plus_b.usedVars()"
   ]
  },
  {
   "cell_type": "code",
   "execution_count": null,
   "metadata": {},
   "outputs": [],
   "source": [
    "abs_value_a_plus_b.freeVars()"
   ]
  },
  {
   "cell_type": "markdown",
   "metadata": {},
   "source": [
    "## Axioms <a id='axioms'></a>"
   ]
  },
  {
   "cell_type": "markdown",
   "metadata": {},
   "source": [
    "<font size=4>At this time, there is a single axiom for absolute value, defining $|x|=\\sqrt{x^2}$:</font>"
   ]
  },
  {
   "cell_type": "code",
   "execution_count": null,
   "metadata": {},
   "outputs": [],
   "source": [
    "abs_val_def_sqrt"
   ]
  },
  {
   "cell_type": "markdown",
   "metadata": {},
   "source": [
    "<font size=4>When the `Conditional` class has been established, the axiomatic definition will use the standard piece-wise definition, and the “square root of the square” could then be a theorem instead.</font>"
   ]
  },
  {
   "cell_type": "markdown",
   "metadata": {},
   "source": [
    "## Theorems <a id='axioms'></a>"
   ]
  },
  {
   "cell_type": "markdown",
   "metadata": {},
   "source": [
    "<font size=4>Some typical absolute value-related theorems are illustrated below. The full complement of theorems appears in the `proveit/number/absolute_value/_theorems_.ipynb` notebook.</font>"
   ]
  },
  {
   "cell_type": "code",
   "execution_count": null,
   "metadata": {},
   "outputs": [],
   "source": [
    "from proveit.number.absolute_value._theorems_ import (\n",
    "        absNonzeroClosure, absIsNonNeg, absElim, triangleInequality)"
   ]
  },
  {
   "cell_type": "code",
   "execution_count": null,
   "metadata": {},
   "outputs": [],
   "source": [
    "# abs value of a non-zero value is a positive real\n",
    "absNonzeroClosure"
   ]
  },
  {
   "cell_type": "code",
   "execution_count": null,
   "metadata": {},
   "outputs": [],
   "source": [
    "# abs value of any number is non-negative\n",
    "absIsNonNeg"
   ]
  },
  {
   "cell_type": "code",
   "execution_count": null,
   "metadata": {},
   "outputs": [],
   "source": [
    "# we can eliminate the abs value wrapper around a positive real\n",
    "absElim"
   ]
  },
  {
   "cell_type": "code",
   "execution_count": null,
   "metadata": {},
   "outputs": [],
   "source": [
    "# abs value version of a triangle inequality thm\n",
    "triangleInequality"
   ]
  },
  {
   "cell_type": "markdown",
   "metadata": {},
   "source": [
    "## Demonstrations <a id='further_demonstrations'></a>"
   ]
  },
  {
   "cell_type": "markdown",
   "metadata": {},
   "source": [
    "<a id='demo01'></a><font size=4>1. TBA.<br><br>\n",
    "We begin with some simple expressions ….</font>"
   ]
  },
  {
   "cell_type": "code",
   "execution_count": null,
   "metadata": {},
   "outputs": [],
   "source": []
  },
  {
   "cell_type": "code",
   "execution_count": null,
   "metadata": {},
   "outputs": [],
   "source": [
    "demo_expr_01 = Abs(Add(a, b, two, three))"
   ]
  },
  {
   "cell_type": "code",
   "execution_count": null,
   "metadata": {},
   "outputs": [],
   "source": [
    "demo_expr_01.simplification(assumptions=[InSet(a, Complexes), InSet(b, Complexes)])"
   ]
  },
  {
   "cell_type": "code",
   "execution_count": null,
   "metadata": {},
   "outputs": [],
   "source": [
    "demo_expr_01.simplification(assumptions=[InSet(a, Reals), InSet(b, Reals)])"
   ]
  },
  {
   "cell_type": "code",
   "execution_count": null,
   "metadata": {},
   "outputs": [],
   "source": [
    "demo_expr_01.deduceInNumberSet(RealsNonNeg, assumptions=[InSet(a, Complexes), InSet(b, Complexes), Greater(a,zero), Greater(b,zero)])"
   ]
  },
  {
   "cell_type": "code",
   "execution_count": null,
   "metadata": {},
   "outputs": [],
   "source": [
    "demo_expr_01.simplification(assumptions=[InSet(a, RealsNonNeg), InSet(b, RealsNonNeg), Greater(a,zero), Greater(b,zero)])"
   ]
  },
  {
   "cell_type": "code",
   "execution_count": null,
   "metadata": {},
   "outputs": [],
   "source": [
    "# Greater(demo_expr_01, zero).prove(assumptions=[InSet(a, Reals), InSet(b, Reals), Greater(a,zero), Greater(b,zero)])"
   ]
  },
  {
   "cell_type": "markdown",
   "metadata": {},
   "source": [
    "<a id='demo02'></a><font size=4><br>2. TBA.<br><br>\n",
    "</font>"
   ]
  },
  {
   "cell_type": "markdown",
   "metadata": {},
   "source": [
    "<a id='demo03'></a><font size=4><br>3. TBA.<br><br>\n",
    "</font>"
   ]
  },
  {
   "cell_type": "markdown",
   "metadata": {},
   "source": [
    "## Misc Testing <a id='misc_testing'></a>"
   ]
  },
  {
   "cell_type": "markdown",
   "metadata": {},
   "source": [
    "<font size=4>Some temporary testing while the absolute_value context and demonstrations page are developed (this material can be deleted later once the demonstrations page is more established).</font>"
   ]
  },
  {
   "cell_type": "markdown",
   "metadata": {},
   "source": [
    "<font size=4>Testing `Abs.deduceInNumberSet()` method for constants and variables.</font>"
   ]
  },
  {
   "cell_type": "code",
   "execution_count": null,
   "metadata": {},
   "outputs": [],
   "source": [
    "abs_value_1_plus_2 = Abs(Add(one, two))"
   ]
  },
  {
   "cell_type": "code",
   "execution_count": null,
   "metadata": {},
   "outputs": [],
   "source": [
    "abs_value_a_plus_b = Abs(Add(a, b))"
   ]
  },
  {
   "cell_type": "code",
   "execution_count": null,
   "metadata": {},
   "outputs": [],
   "source": [
    "abs_value_a_times_b = Abs(Mult(a, b))"
   ]
  },
  {
   "cell_type": "code",
   "execution_count": null,
   "metadata": {},
   "outputs": [],
   "source": [
    "abs_value_a_div_b = Abs(frac(a,b))"
   ]
  },
  {
   "cell_type": "code",
   "execution_count": null,
   "metadata": {},
   "outputs": [],
   "source": [
    "abs_value_1_plus_2.deduceInNumberSet(Reals)"
   ]
  },
  {
   "cell_type": "code",
   "execution_count": null,
   "metadata": {},
   "outputs": [],
   "source": [
    "abs_value_a_plus_b.deduceInNumberSet(Reals, assumptions=[InSet(Add(a,b), Complexes)])"
   ]
  },
  {
   "cell_type": "code",
   "execution_count": null,
   "metadata": {},
   "outputs": [],
   "source": [
    "# Add(one, two).evaluation()"
   ]
  },
  {
   "cell_type": "code",
   "execution_count": null,
   "metadata": {},
   "outputs": [],
   "source": [
    "# NotEquals(three, zero).prove()"
   ]
  },
  {
   "cell_type": "code",
   "execution_count": null,
   "metadata": {},
   "outputs": [],
   "source": [
    "# This and the next cell combine to produce a puzzle\n",
    "# The deduceInNumberSet in the next cell does not automatically\n",
    "# find that 1 + 2 ≠ 0, but even when we do that manually first\n",
    "# as in this cell, the next cell initially fails, but will then\n",
    "# go through if manually entered a second time.\n",
    "# result01, result02 = (\n",
    "#     Add(one, two).evaluation(),\n",
    "#     NotEquals(three, zero).prove())"
   ]
  },
  {
   "cell_type": "code",
   "execution_count": null,
   "metadata": {},
   "outputs": [],
   "source": [
    "# abs_value_1_plus_2.deduceInNumberSet(RealsPos)"
   ]
  },
  {
   "cell_type": "code",
   "execution_count": null,
   "metadata": {},
   "outputs": [],
   "source": [
    "abs_value_a_plus_b.deduceInNumberSet(RealsPos,\n",
    "    assumptions=[InSet(Add(a,b), Complexes), NotEquals(Add(a,b), zero)])"
   ]
  },
  {
   "cell_type": "code",
   "execution_count": null,
   "metadata": {},
   "outputs": [],
   "source": [
    "abs_value_1_plus_2.deduceInNumberSet(RealsNonNeg)"
   ]
  },
  {
   "cell_type": "code",
   "execution_count": null,
   "metadata": {},
   "outputs": [],
   "source": [
    "abs_value_a_plus_b.deduceInNumberSet(RealsNonNeg,\n",
    "    assumptions=[InSet(Add(a,b), Complexes)])"
   ]
  },
  {
   "cell_type": "code",
   "execution_count": null,
   "metadata": {},
   "outputs": [],
   "source": [
    "# what happens if we try to deduce into an incorrect set?\n",
    "try:\n",
    "    abs_value_a_plus_b.deduceInNumberSet(Complexes,\n",
    "    assumptions=[InSet(Add(a,b), Complexes)])\n",
    "except Exception as e:\n",
    "    print(\"EXCEPTION: \", e)"
   ]
  },
  {
   "cell_type": "markdown",
   "metadata": {},
   "source": [
    "<font size=4>Testing Misc Other Abs methods while updating the Abs class.</font>"
   ]
  },
  {
   "cell_type": "code",
   "execution_count": null,
   "metadata": {},
   "outputs": [],
   "source": [
    "# After establishing an Abs.notEquals() method, hoping that automation will\n",
    "# be able to prove an Abs(x) ≠ 0 when x in Complexes with x ≠ 0.\n",
    "NotEquals(abs_value_a_plus_b, zero).prove(assumptions=[InSet(Add(a,b), Complexes), NotEquals(Add(a,b), zero)])"
   ]
  },
  {
   "cell_type": "code",
   "execution_count": null,
   "metadata": {},
   "outputs": [],
   "source": [
    "# Does not automatically know 1 + 2 is pos real\n",
    "# abs_value_1_plus_2.absElimination()"
   ]
  },
  {
   "cell_type": "code",
   "execution_count": null,
   "metadata": {},
   "outputs": [],
   "source": [
    "abs_value_a_plus_b.absElimination(assumptions = [InSet(Add(a,b), RealsPos)])"
   ]
  },
  {
   "cell_type": "code",
   "execution_count": null,
   "metadata": {},
   "outputs": [],
   "source": [
    "InSet(a, Complexes).prove(assumptions=[InSet(a, Complexes)])"
   ]
  },
  {
   "cell_type": "code",
   "execution_count": null,
   "metadata": {},
   "outputs": [],
   "source": [
    "abs_value_1_plus_2.deduceGreaterThanEqualsZero()"
   ]
  },
  {
   "cell_type": "code",
   "execution_count": null,
   "metadata": {},
   "outputs": [],
   "source": [
    "abs_value_a_plus_b.deduceGreaterThanEqualsZero(assumptions=[InSet(Add(a,b), Complexes)])"
   ]
  },
  {
   "cell_type": "code",
   "execution_count": null,
   "metadata": {},
   "outputs": [],
   "source": [
    "from proveit.number.absolute_value._theorems_ import absProd\n",
    "absProd"
   ]
  },
  {
   "cell_type": "code",
   "execution_count": null,
   "metadata": {},
   "outputs": [],
   "source": [
    "# specialization having trouble when dealing with multiple\n",
    "# simultaneous set membership conditions\n",
    "# see email with WW on 3/23/2020\n",
    "# from proveit._common_ import n, xx\n",
    "# absProdSpec = absProd.specialize({n:two, xx:(a,b)},\n",
    "#         assumptions=[InSet(a, Complexes), InSet(b, Complexes)])"
   ]
  },
  {
   "cell_type": "code",
   "execution_count": null,
   "metadata": {},
   "outputs": [],
   "source": [
    "# specialization having trouble when dealing with multiple\n",
    "# simultaneous set membership conditions\n",
    "# see email with WW on 3/23/2020\n",
    "# abs_value_a_times_b.distribute(assumptions=[InSet(a, Complexes), InSet(b, Complexes)])"
   ]
  },
  {
   "cell_type": "code",
   "execution_count": null,
   "metadata": {},
   "outputs": [],
   "source": [
    "abs_value_a_div_b.distribute(\n",
    "    assumptions=[InSet(a, Complexes), InSet(b, Complexes), NotEquals(b, zero)])"
   ]
  },
  {
   "cell_type": "markdown",
   "metadata": {},
   "source": [
    "### simplification"
   ]
  },
  {
   "cell_type": "code",
   "execution_count": null,
   "metadata": {},
   "outputs": [],
   "source": [
    "abs_value_1_plus_2"
   ]
  },
  {
   "cell_type": "code",
   "execution_count": null,
   "metadata": {},
   "outputs": [],
   "source": [
    "from proveit.number import three\n",
    "abs_value_1_plus_2.simplification()"
   ]
  },
  {
   "cell_type": "code",
   "execution_count": null,
   "metadata": {},
   "outputs": [],
   "source": [
    "Neg(Neg(three)).simplification().rhs"
   ]
  },
  {
   "cell_type": "code",
   "execution_count": null,
   "metadata": {},
   "outputs": [],
   "source": [
    "abs_value_neg_three = Abs(Neg(three))"
   ]
  },
  {
   "cell_type": "code",
   "execution_count": null,
   "metadata": {},
   "outputs": [],
   "source": [
    "Neg(abs_value_neg_three.operand).simplification().rhs"
   ]
  },
  {
   "cell_type": "code",
   "execution_count": null,
   "metadata": {},
   "outputs": [],
   "source": [
    "# Less(Neg(three), zero).prove()"
   ]
  },
  {
   "cell_type": "code",
   "execution_count": null,
   "metadata": {},
   "outputs": [],
   "source": [
    "# InSet(Neg(three), RealsNeg).prove()"
   ]
  },
  {
   "cell_type": "code",
   "execution_count": null,
   "metadata": {},
   "outputs": [],
   "source": [
    "abs_value_neg_three.simplification()"
   ]
  },
  {
   "cell_type": "code",
   "execution_count": null,
   "metadata": {},
   "outputs": [],
   "source": [
    "# see if we can catch these in the doReducedSimplification …\n",
    "# add a Greater(x, zero) or GreaterEq(x, zero) to the routine\n",
    "abs_value_a_plus_b.simplification(assumptions=[InSet(Add(a, b), Reals), Greater(Add(a, b), zero)])"
   ]
  },
  {
   "cell_type": "code",
   "execution_count": null,
   "metadata": {},
   "outputs": [],
   "source": [
    "abs_value_a_plus_b.simplification(assumptions=[InSet(a, RealsPos), InSet(b, RealsPos)])"
   ]
  },
  {
   "cell_type": "code",
   "execution_count": null,
   "metadata": {},
   "outputs": [],
   "source": [
    "abs_value_a_plus_b.simplification()"
   ]
  },
  {
   "cell_type": "code",
   "execution_count": null,
   "metadata": {},
   "outputs": [],
   "source": [
    "# what happens currently when adding together integers …\n",
    "Add(one, two).deduceInNumberSet(Integers)"
   ]
  },
  {
   "cell_type": "code",
   "execution_count": null,
   "metadata": {},
   "outputs": [],
   "source": [
    "Add(one, two).simplified()"
   ]
  },
  {
   "cell_type": "code",
   "execution_count": null,
   "metadata": {},
   "outputs": [],
   "source": [
    "Add(one, two).simplification()"
   ]
  },
  {
   "cell_type": "code",
   "execution_count": null,
   "metadata": {},
   "outputs": [],
   "source": [
    "%end demonstrations"
   ]
  }
 ],
 "metadata": {
  "kernelspec": {
   "display_name": "Python 3",
   "language": "python",
   "name": "python3"
  }
 },
 "nbformat": 4,
 "nbformat_minor": 0
}
